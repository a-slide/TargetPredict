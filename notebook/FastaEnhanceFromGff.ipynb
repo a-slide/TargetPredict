{
 "cells": [
  {
   "cell_type": "code",
   "execution_count": 1,
   "metadata": {
    "collapsed": false
   },
   "outputs": [
    {
     "name": "stdout",
     "output_type": "stream",
     "text": [
      "Parse the gff file\n",
      "  100000 features parsed\n",
      "  200000 features parsed\n",
      "  300000 features parsed\n",
      "  400000 features parsed\n",
      "  500000 features parsed\n",
      "  600000 features parsed\n",
      "  700000 features parsed\n",
      "  800000 features parsed\n",
      "  900000 features parsed\n",
      "  1000000 features parsed\n",
      "  1100000 features parsed\n",
      "  1200000 features parsed\n",
      "  1300000 features parsed\n",
      "  1400000 features parsed\n",
      "  1500000 features parsed\n",
      "  1600000 features parsed\n",
      "  1700000 features parsed\n",
      "  1800000 features parsed\n",
      "  1900000 features parsed\n",
      "  2000000 features parsed\n",
      "  2100000 features parsed\n",
      "  2200000 features parsed\n",
      "  2300000 features parsed\n",
      "  2400000 features parsed\n",
      "  2500000 features parsed\n",
      "Found 198798 valid transcript\n",
      "Flaten the transcript feature dictionnary\n",
      "Parse the fasta file and write a new one\n",
      "Wrote 198618 sequences\n",
      "\n",
      "Done in 124.937s\n"
     ]
    }
   ],
   "source": [
    "# Imports\n",
    "from GffParser import GffParser\n",
    "from Bio import SeqIO\n",
    "from gzip import open as gopen\n",
    "from time import time\n",
    "\n",
    "start_time = time()\n",
    "\n",
    "# Open the gff file and store only transcript informations\n",
    "print (\"Parse the gff file\")\n",
    "gp = GffParser(gff_file=\"./gencode.v23.primary_assembly.annotation.gff3.gz\", fusion=False, offset=0, features=[\"transcript\"])\n",
    "print (\"Found {} valid transcript\".format(gp.valid_features))\n",
    "\n",
    "# Flaten the collection of features in all chromosomes in a simple transcript_id access dictionnary\n",
    "print (\"Flaten the transcript feature dictionnary\")\n",
    "transcript_dict = {}\n",
    "for seq in gp.gff_dict.values():\n",
    "    for feature in seq.features:\n",
    "        transcript_dict[feature.attributes['ID'][0]] = feature\n",
    "\n",
    "# Process the fasta file containing the transcript sequences\n",
    "print (\"Parse the fasta file and write a new one\")\n",
    "with gopen (\"./gencode.v23.transcripts.fa.gz\", \"r\") as fin, gopen (\"./gencode.v23.transcripts_full.fa.gz\", \"w\") as fout:\n",
    "    for n, sequence in enumerate (SeqIO.parse(fin, 'fasta')):\n",
    "        \n",
    "        # Extract the transcript id from the fasta sequence name\n",
    "        ID = sequence.id.split(\"|\")[0]\n",
    "        \n",
    "        # Find the correspondance in the parsed gff transcripts\n",
    "        gff_line = str(transcript_dict[ID]).replace(\"\\t\", \"|\").replace(\" \", \"_\")\n",
    "        \n",
    "        # Write a fasta file with the new header line in a new file \n",
    "        fout.write (\">{}\\n{}\\n\".format(gff_line, str(sequence.seq)))\n",
    "\n",
    "print (\"Wrote {} sequences\".format(n))\n",
    "        \n",
    "print (\"\\nDone in {}s\".format(round(time()-start_time, 3)))"
   ]
  }
 ],
 "metadata": {
  "kernelspec": {
   "display_name": "Python 2",
   "language": "python",
   "name": "python2"
  },
  "language_info": {
   "codemirror_mode": {
    "name": "ipython",
    "version": 2
   },
   "file_extension": ".py",
   "mimetype": "text/x-python",
   "name": "python",
   "nbconvert_exporter": "python",
   "pygments_lexer": "ipython2",
   "version": "2.7.6"
  }
 },
 "nbformat": 4,
 "nbformat_minor": 0
}
